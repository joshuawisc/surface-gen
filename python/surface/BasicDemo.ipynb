{
 "cells": [
  {
   "cell_type": "code",
   "execution_count": 1,
   "metadata": {},
   "outputs": [],
   "source": [
    "import numpy as np\n",
    "from mpl_toolkits.mplot3d import Axes3D\n",
    "import matplotlib as mp\n",
    "import matplotlib.pyplot as plt\n",
    "from matplotlib import cm\n",
    "from mpl_toolkits.mplot3d.art3d import Poly3DCollection\n",
    "import scipy as sp\n",
    "import scipy.stats\n",
    "import seaborn as sns\n",
    "from matplotlib import cm\n",
    "import networkx as nx\n",
    "import pandas as pd\n",
    "import itertools\n",
    "from matplotlib import animation\n",
    "import os\n",
    "# Using matplotlib notebook allows you to interact with the resulting 3-D figure\n",
    "%matplotlib inline"
   ]
  },
  {
   "cell_type": "code",
   "execution_count": 2,
   "metadata": {},
   "outputs": [
    {
     "data": {
      "text/plain": [
       "<module 'trngln' from 'src/trngln.py'>"
      ]
     },
     "execution_count": 2,
     "metadata": {},
     "output_type": "execute_result"
    }
   ],
   "source": [
    "import sys\n",
    "sys.path.append(r'src')\n",
    "import curvgrad as cg\n",
    "import trngln\n",
    "from importlib import reload\n",
    "reload(cg)\n",
    "reload(trngln)"
   ]
  },
  {
   "cell_type": "code",
   "execution_count": 3,
   "metadata": {},
   "outputs": [],
   "source": [
    "# two methods for animation - see:\n",
    "# http://louistiao.me/posts/notebooks/embedding-matplotlib-animations-in-jupyter-as-interactive-javascript-widgets/\n",
    "# 1 - directly inline via %matplotlib notebook - advantage: real-time, disadvantage: no manual control\n",
    "# 2 - encode as video, embedded into notebook (base64) and display via notebook player or JS widget\n",
    "#     downside - not real time, need to generate complete video before it can be displayed\n",
    "# 2a - HTML(anim.to_html5_video())  [notebook player, bare bones] [uses html5 <video> tag]\n",
    "# 2b - HTML(anim.to_jshtml())  [JS widget, extra controls]\n",
    "# these latter can be made default representation via next line, which can also be 'html5'\n",
    "mp.rcParams['animation.html'] = 'jshtml'\n",
    "# 3 - save as an animated GIF and display using \n",
    "# rot_animation.save('rotation.gif', dpi=80, writer='imagemagick')\n",
    "# ![RotatingImage](rotation.gif \"Quadratic Form\")\n",
    "# see also https://stackoverflow.com/questions/35532498/animation-in-ipython-notebook/46878531#46878531"
   ]
  },
  {
   "cell_type": "code",
   "execution_count": 4,
   "metadata": {},
   "outputs": [],
   "source": [
    "refc = pd.read_csv('Data/mark_us_curv.csv', index_col = 0)\n",
    "refc.columns = refc.columns.astype('float')"
   ]
  },
  {
   "cell_type": "markdown",
   "metadata": {},
   "source": [
    "### Create the 3D Mesh and its Triangulation"
   ]
  },
  {
   "cell_type": "markdown",
   "metadata": {},
   "source": [
    "First create a 2D x-y mesh"
   ]
  },
  {
   "cell_type": "code",
   "execution_count": 5,
   "metadata": {},
   "outputs": [],
   "source": [
    "cellcoords = np.array(list(itertools.product(refc.index, refc.columns)), dtype='float')\n",
    "# we assume that ncols = nrows in the input dataframe\n",
    "gridsize = len(refc.columns)\n",
    "x = np.reshape(cellcoords[:,0], (gridsize, gridsize))\n",
    "y = np.reshape(cellcoords[:,1], (gridsize, gridsize))\n",
    "z = np.zeros((gridsize, gridsize))\n",
    "curvatures = np.reshape([refc.loc[x, y] for x, y in itertools.product(refc.index, refc.columns)], \n",
    "                        (gridsize, gridsize))"
   ]
  },
  {
   "cell_type": "code",
   "execution_count": 6,
   "metadata": {},
   "outputs": [],
   "source": [
    "# x and y are the corresponding indices of a 2D mesh\n",
    "# x, y = np.mgrid[-edge:edge:.05, -edge:edge:.05]\n",
    "# create the structure needed for evaluating pdfs\n",
    "pos = np.empty(x.shape + (2,))\n",
    "pos[:, :, 0] = x; pos[:, :, 1] = y\n",
    "gridsize = x.shape[0]"
   ]
  },
  {
   "cell_type": "markdown",
   "metadata": {},
   "source": [
    "Now create the triangulation of the 3D mesh"
   ]
  },
  {
   "cell_type": "code",
   "execution_count": 7,
   "metadata": {},
   "outputs": [],
   "source": [
    "Tr = trngln.trngln(gridsize)\n",
    "triangles = Tr.triangles()"
   ]
  },
  {
   "cell_type": "code",
   "execution_count": 8,
   "metadata": {},
   "outputs": [],
   "source": [
    "G = Tr.regularization_graph()\n",
    "L = nx.laplacian_matrix(G)\n",
    "L3 = L @ L @ L"
   ]
  },
  {
   "cell_type": "code",
   "execution_count": 9,
   "metadata": {},
   "outputs": [],
   "source": [
    "t_of_v = Tr.triangles_of_vertex()"
   ]
  },
  {
   "cell_type": "code",
   "execution_count": 10,
   "metadata": {},
   "outputs": [],
   "source": [
    "xf = x.flatten()\n",
    "yf = y.flatten()\n",
    "zf = z.flatten()"
   ]
  },
  {
   "cell_type": "code",
   "execution_count": 11,
   "metadata": {},
   "outputs": [],
   "source": [
    "def get_triangle_vertices(triangles, xf, yf, zf):\n",
    "    # this is the actual mesh we will plot\n",
    "    return np.array([np.array([[xf[T[0]], yf[T[0]], zf[T[0]]],\n",
    "                                    [xf[T[1]], yf[T[1]], zf[T[1]]],\n",
    "                                    [xf[T[2]], yf[T[2]], zf[T[2]]]]) for T in triangles])\n",
    "def get_vertices(xf, yf, zf):\n",
    "    # list of coordinates of each triangle\n",
    "    return np.array(list(zip(xf, yf, zf)))\n",
    "\n",
    "triangle_vertices = get_triangle_vertices(triangles, xf, yf, zf)\n",
    "vertices = get_vertices(xf, yf, zf)"
   ]
  },
  {
   "cell_type": "markdown",
   "metadata": {},
   "source": [
    "#### Compute the angle of vertex $b$ in triangle $T$\n",
    "\n",
    "Given a triangle with vertices $p_0, p_1, p_2$.   To compute the angle at vertex $p_0$:\n",
    "\n",
    "Let $v = p_1 - p_0,$ $u = p_2 - p_0$.  Then $\\theta = \\cos^{-1}\\frac{u^T v}{\\Vert u\\Vert \\Vert v\\Vert}$"
   ]
  },
  {
   "cell_type": "code",
   "execution_count": 12,
   "metadata": {},
   "outputs": [],
   "source": [
    "def angle_of_b_in_t(b, T, vertices):\n",
    "    '''\n",
    "    for a vertex b which is an index into vertices\n",
    "    and a triangle T (which is a triple)\n",
    "    return the angle formed by the two triangles sides at vertex b\n",
    "    '''\n",
    "    others = [t for t in T if t != b]\n",
    "    u = np.array(vertices[others[0]] - vertices[b])\n",
    "    v = np.array(vertices[others[1]] - vertices[b])\n",
    "    return np.arccos((u.T @ v) / (np.linalg.norm(u) * np.linalg.norm(v)))"
   ]
  },
  {
   "cell_type": "markdown",
   "metadata": {},
   "source": [
    "#### Compute the curvature at vertex $b$.\n",
    "\n",
    "The curvature at a vertex $= 2 \\pi - \\sum$ angles around vertex"
   ]
  },
  {
   "cell_type": "code",
   "execution_count": 13,
   "metadata": {},
   "outputs": [],
   "source": [
    "def vertex_curvature(b, t_of_v, vertices):\n",
    "    '''\n",
    "    return the curvature at vertex b\n",
    "    '''\n",
    "    # find the angles of the edges incident at each vertex b\n",
    "    # t_of_v[b] is the set of triangles incident to vertex b\n",
    "    angles = [angle_of_b_in_t(b, t, vertices) for t in t_of_v[b]]\n",
    "    if len(angles) == 6:\n",
    "        # this is an interior vertex\n",
    "        return 2 * np.pi - np.sum(angles)\n",
    "    else:\n",
    "        # this vertex does not have the standard number of neighbors (6)\n",
    "        # which happens at the edge of the mesh\n",
    "        # so just ignore it - will be filtered out of downstream processing\n",
    "        return np.nan \n",
    "    \n",
    "def get_curvature(vertices, t_of_v):\n",
    "    '''\n",
    "    return an array containing the curvature at each vertex in vertices\n",
    "    '''\n",
    "    return np.array([vertex_curvature(v, t_of_v, vertices) for v in range(len(vertices))])"
   ]
  },
  {
   "cell_type": "code",
   "execution_count": 14,
   "metadata": {},
   "outputs": [],
   "source": [
    "def rmap(x, oldmin, newmin, oldmax, newmax, newzero):\n",
    "    '''\n",
    "    linear rescaling for visualization purposes\n",
    "    rescale from range [oldmin, 0] to [newmin, newzero]\n",
    "    and from [0, oldmax] to [newzero, newmax]\n",
    "    '''\n",
    "    if x > 0:\n",
    "        return (x/oldmax)*(newmax-newzero)+newzero\n",
    "    elif x < 0:\n",
    "        return (x/oldmin)*(newmin-newzero)+newzero\n",
    "    else:\n",
    "        return newzero"
   ]
  },
  {
   "cell_type": "markdown",
   "metadata": {},
   "source": [
    "## Warping a surface to match a curvature"
   ]
  },
  {
   "cell_type": "markdown",
   "metadata": {},
   "source": [
    "### Build a test case\n",
    "\n",
    "Get a curvature value for each point"
   ]
  },
  {
   "cell_type": "code",
   "execution_count": 15,
   "metadata": {},
   "outputs": [
    {
     "data": {
      "text/plain": [
       "<matplotlib.collections.PathCollection at 0x7f952255aa90>"
      ]
     },
     "execution_count": 15,
     "metadata": {},
     "output_type": "execute_result"
    },
    {
     "data": {
      "image/png": "[encoded data removed]",
      "text/plain": [
       "<Figure size 432x288 with 1 Axes>"
      ]
     },
     "metadata": {
      "needs_background": "light"
     },
     "output_type": "display_data"
    }
   ],
   "source": [
    "cmap = cm.seismic\n",
    "maxscale = 0.1\n",
    "plt.scatter(xf, yf, color = [cmap(rmap(p, -maxscale, 0, maxscale, 1, 0.5)) for p in curvatures.flatten()])"
   ]
  },
  {
   "cell_type": "markdown",
   "metadata": {},
   "source": [
    "### Loss Function"
   ]
  },
  {
   "cell_type": "markdown",
   "metadata": {},
   "source": [
    "Let the intended curvature at grid point $i$ be $\\kappa(i)$ and the current curvature be $c(i)$.   Then to match the observed curvature, the loss is:\n",
    "\n",
    "$$ \\mathcal{L_{\\mbox{curv}}} = \\sum_i (\\kappa(i) - c(i))^2. $$"
   ]
  },
  {
   "cell_type": "markdown",
   "metadata": {},
   "source": [
    "#### Symmetry Breaking: Objective\n",
    "\n",
    "\n",
    "However, note that there is a symmetry-breaking problem here.  From a starting point of a flat surface, we can get positive curvature at $i$ by moving $i_z$ either upwards or downwards.  \n",
    "\n",
    "\n",
    "One way to think about this is in terms of the Laplace-Beltrami operator $\\Delta$ applied to the $z$ coordinate.  $\\Delta \\mathbf{z}$ is positive at $(x, y, z)$ if that point is above the average of its neighbors, and negative if it is below the average of its neighbors.  We can consider these to correspond to \"opening downward\" (negative mean curvature) or \"opening upward\" (positive mean curvature).  Note that mean curvature here is different from the Gaussian curvature that we are trying to achieve in our optimization.\n",
    "\n",
    "Hence, given a region where points all have (say) positive Gaussian curvature, we want those points to also have the same-sign (positive) mean curvature.  This will create \"bumps\" in regions of positive Gaussian curvature (rather than many little pockets of positive Gaussian, but alternating-sign mean curvature).  \n",
    "\n",
    "We get an approximation to mean curvature from the Laplace-Beltrami operator.   And we will approximate the Laplace-Beltrami operator with the mesh's graph Laplacian (many details to go back and fix here!)  So we will look for smoothness in $L\\mathbf{z}$. \n",
    "\n",
    "Note here the basic fact that  $x^TLx = \\sum_{(u,v)\\in E} (x(u) - x(v))^2.$   That is, the quadratic form $x^TLx$ measures how much adjacent points in a graph differ from each other in the values that are assigned to them.   That is, how non-smooth the $x$ values are on the graph.\n",
    "\n",
    "  Our objective therefore will be to minimize $\\mathbf{z}^TL^TLL\\mathbf{z} = \\mathbf{z}^TL^3\\mathbf{z}$.\n",
    "\n",
    "Hence our final loss function will be:\n",
    "\n",
    "$$ \\mathcal{L} = \\sum_i (\\kappa(i) - c(i))^2 + \\lambda \\mathbf{z}^TL^3\\mathbf{z}. $$"
   ]
  },
  {
   "cell_type": "markdown",
   "metadata": {},
   "source": [
    "#### Symmetry Breaking: Initialization\n",
    "\n",
    "Also because of the symmetry problems, if we start with exactly $\\mathbf{z} = 0$, the gradient of the above $\\mathcal L$ with respect to $z$ is exactly zero.\n",
    "\n",
    "We want to 'bias' the solution to always creating 'bumps' in the positive-curvature region, rather than a choice of either 'bumps' or 'dips'.  \n",
    "\n",
    "Hence we initialize $\\mathbf{z}$ to equal $\\kappa$.  That means that positively curved regions will start as bumps (which will then be adjusted up or down by the optimization)."
   ]
  },
  {
   "cell_type": "markdown",
   "metadata": {},
   "source": [
    "### Optimizing $\\mathcal{L}$ by Gradient Descent"
   ]
  },
  {
   "cell_type": "markdown",
   "metadata": {},
   "source": [
    "Each point has three coordinates, ie, $a = (x_a, y_a, z_a)$.  In order to use gradient descent to minimize this loss function we need to compute\n",
    "$$ \\frac{\\partial \\mathcal{L}}{\\partial z} $$\n",
    "where $z = [z_i]^T$.  Written out, the above is $[\\frac{\\partial \\mathcal{L}}{\\partial z_i}]^T$."
   ]
  },
  {
   "cell_type": "markdown",
   "metadata": {},
   "source": [
    "### Gradient\n",
    "\n",
    "The gradient we seek is:\n",
    "\n",
    "$$ \\frac{\\partial \\mathcal{L}}{\\partial z} = \\sum_i 2(\\kappa(i) - c(i))\\left(-\\frac{\\partial c(i)}{\\partial z}\\right) + \\lambda L^3z$$.\n",
    "\n",
    "Details on computing the terms in the gradient, ie, $\\frac{\\partial c(i)}{\\partial z}$, are omitted but are listed in another notebook."
   ]
  },
  {
   "cell_type": "markdown",
   "metadata": {},
   "source": [
    "### Functions for computing gradient"
   ]
  },
  {
   "cell_type": "code",
   "execution_count": 16,
   "metadata": {},
   "outputs": [],
   "source": [
    "# test case\n",
    "kappa = curvatures.flatten()"
   ]
  },
  {
   "cell_type": "code",
   "execution_count": 17,
   "metadata": {},
   "outputs": [],
   "source": [
    "zf = 0.001 * curvatures.flatten()\n",
    "# zf = 0.001 * np.random.random(576)\n",
    "vertices = get_vertices(xf, yf, zf)\n",
    "c = get_curvature(vertices, t_of_v)"
   ]
  },
  {
   "cell_type": "code",
   "execution_count": 18,
   "metadata": {},
   "outputs": [],
   "source": [
    "def objfn(kappa, c):\n",
    "    '''\n",
    "    return a measure of how much the actual curvature differs from the\n",
    "    desired curvature\n",
    "    '''\n",
    "    diff = kappa-c\n",
    "    diff = diff * diff\n",
    "    return np.nansum(diff)\n",
    "\n",
    "def complete_objfn(kappa, c, smooth_pen, penval):\n",
    "    '''\n",
    "    return the objective function of the optimization, ie,\n",
    "    taking into account both the curvature error and the smoothness penalty\n",
    "    '''\n",
    "    ob = objfn(kappa, c)\n",
    "    return ob + smooth_pen * penval"
   ]
  },
  {
   "cell_type": "code",
   "execution_count": 19,
   "metadata": {},
   "outputs": [],
   "source": [
    "def single_step(smooth_pen, rate, vertices, kappa, cv_in, t_of_v, xf, yf, zf):\n",
    "    grad = cg.L_grad_penalized(smooth_pen, L3 @ zf, len(vertices), kappa, cv_in, t_of_v, vertices)\n",
    "    # grad, penalty = L_grad_penalized_with_convexity(100, L, zf, 10, L3 @ zf, len(vertices), kappa, cv_in, t_of_v, vertices)\n",
    "    # grad = L_grad_penalized_biased(10, 10, L3 @ zf, len(vertices), kappa, cv_in, t_of_v, vertices)\n",
    "    new_zf = zf - rate * grad\n",
    "    new_vertices = get_vertices(xf, yf, new_zf)\n",
    "    new_cv = get_curvature(new_vertices, t_of_v)\n",
    "    return new_zf, new_cv, new_vertices, grad\n",
    "\n",
    "def single_step_with_momentum(prev_step, momentum, smooth_pen, rate, vertices, kappa, cv_in, t_of_v, xf, yf, zf):\n",
    "    grad = cg.L_grad_penalized(smooth_pen, L3 @ zf, len(vertices), kappa, cv_in, t_of_v, vertices)\n",
    "    prev_step = ((1-momentum) * grad) + (momentum * prev_step)\n",
    "    new_zf = zf - rate * prev_step\n",
    "    new_vertices = get_vertices(xf, yf, new_zf)\n",
    "    new_cv = get_curvature(new_vertices, t_of_v)\n",
    "    return new_zf, new_cv, new_vertices, prev_step"
   ]
  },
  {
   "cell_type": "code",
   "execution_count": 20,
   "metadata": {},
   "outputs": [],
   "source": [
    "def generate_surface(smooth_pen, rate, momentum, kappa, xf, yf, t_of_v, niter = 1000, verbose = False):\n",
    "    '''\n",
    "    generate the surface that matches the curvature given by kappa\n",
    "        kappa: desired curvature at each point of the mesh - 1D array\n",
    "        smooth_pen: the weight applied to non-smoothness; \n",
    "            larger values produce smoother surfaces\n",
    "        rate: initial learning rate, which will be adjusted during optimization\n",
    "        momentum: the momentum parameter, typically between 0.9 and 0.99\n",
    "        xf, yf: the x and y coordinates of the mesh as 1D arrays\n",
    "        t_of_v: dictionary giving the triangles that touch at each vertex of the mesh\n",
    "        niter: number of iterations of gradient descent\n",
    "    '''  \n",
    "    # we initialize the z coordinate to be equal to the curvature\n",
    "    # this is explained above under \"symmetry breaking: initialization\"\n",
    "    zf = kappa.copy()\n",
    "    zf[np.isnan(zf)] = 0\n",
    "    zf[zf<0] = 0\n",
    "    #\n",
    "    # initialize variables that will be used in gradient descent\n",
    "    vertices = get_vertices(xf, yf, zf)\n",
    "    cv = get_curvature(vertices, t_of_v)\n",
    "    of = objfn(kappa, cv)\n",
    "    cof = complete_objfn(kappa, cv, smooth_pen, zf.T @ L3 @ zf)\n",
    "    old_of = of\n",
    "    old_cof = cof\n",
    "    errvals = []\n",
    "    c_errvals = []\n",
    "    #\n",
    "    # initial rate - decrease rate until a single step does not increase the objective\n",
    "    if verbose:\n",
    "        print('starting rate setting: rate: {} obj fn: {} complete obj fn: {}'.format(rate, of, cof))   \n",
    "    new_zf, new_cv, new_vertices, prev_step = single_step(smooth_pen, rate, vertices, kappa, cv, t_of_v, xf, yf, zf)\n",
    "    while (complete_objfn(kappa, new_cv, smooth_pen, new_zf.T @ L3 @ new_zf) > old_cof):\n",
    "        rate = rate / 1.1\n",
    "        new_zf, new_cv, new_vertices, prev_step = single_step(smooth_pen, rate, vertices, kappa, cv, t_of_v, xf, yf, zf)\n",
    "        if verbose:\n",
    "            print('setup: -- lowering rate to {}'.format(rate))\n",
    "    old_cof = complete_objfn(kappa, new_cv, smooth_pen, new_zf.T @ L3 @ new_zf)\n",
    "    old_of = objfn(kappa, new_cv)\n",
    "    zf = new_zf\n",
    "    cv = new_cv\n",
    "    vertices = new_vertices\n",
    "    if verbose:\n",
    "        print('finished rate setting: rate: {} obj fn: {} complete obj fn: {}'.format(rate, old_of, old_cof))\n",
    "    #\n",
    "    # main loop\n",
    "    for i in range(niter):\n",
    "        #\n",
    "        # perform a single step of gradient descent, with momentum\n",
    "        new_zf, new_cv, new_vertices, prev_step = single_step_with_momentum(prev_step, momentum,\n",
    "            smooth_pen, rate, vertices, kappa, cv, t_of_v, xf, yf, zf)\n",
    "        of = objfn(kappa, new_cv)\n",
    "        cof = complete_objfn(kappa, new_cv, smooth_pen, new_zf.T @ L3 @ new_zf)\n",
    "        #\n",
    "        # if this step increased the objective function, decrease the learning rate\n",
    "        if (cof > old_cof):\n",
    "            rate = rate / 1.1\n",
    "            if verbose:\n",
    "                print('step: {} -- lowering rate to {}'.format(i, rate))\n",
    "        #\n",
    "        # if rate has gone so low that no progress at all is being made, increase it\n",
    "        elif (cof == old_cof):\n",
    "            rate = rate * 1.1\n",
    "            if verbose:\n",
    "                print('step: {} -- raising rate to {}'.format(i, rate))\n",
    "        #\n",
    "        # else this was a successful step that decreased the objective function\n",
    "        # so save the results (zf) and statistics\n",
    "        else:\n",
    "            errvals.append(of)\n",
    "            c_errvals.append(cof)\n",
    "            old_of = of\n",
    "            old_cof = cof\n",
    "            zf = new_zf\n",
    "            cv = new_cv\n",
    "            vertices = new_vertices\n",
    "            if (0 == i % 100):\n",
    "                if verbose:\n",
    "                    print('step: {}, obj fn: {}'.format(i, of))\n",
    "    if verbose:\n",
    "        print('Done: final error: {}'.format(of))\n",
    "    return zf, cv, errvals, c_errvals"
   ]
  },
  {
   "cell_type": "code",
   "execution_count": 21,
   "metadata": {},
   "outputs": [],
   "source": [
    "def document_run(runname, zf, cv, errvals, c_errvals, kappa, gridsize):\n",
    "    # error plots\n",
    "    plt.figure()\n",
    "    plt.plot(errvals, '-')\n",
    "    plt.yscale('log')\n",
    "    plt.suptitle('Loss for Curvature Only')\n",
    "    plt.title(runname)\n",
    "    plt.savefig('{}/curvature-error.png'.format(runname))\n",
    "    #\n",
    "    plt.figure()\n",
    "    plt.plot(c_errvals, '-')\n",
    "    plt.yscale('log')\n",
    "    plt.suptitle('Complete Objective Function')\n",
    "    plt.title(runname)\n",
    "    plt.savefig('{}/objective-function.png'.format(runname))\n",
    "    #\n",
    "    plt.figure()\n",
    "    sns.heatmap(np.reshape(kappa, (gridsize, gridsize)), cmap = cm.bwr, vmin = -1, vmax = 1, center = 0)\n",
    "    plt.suptitle('Target Curvature Map')\n",
    "    plt.title(runname)\n",
    "    plt.savefig('{}/target-curvature-map.png'.format(runname))\n",
    "    #\n",
    "    plt.figure()\n",
    "    sns.heatmap(np.reshape(cv, (gridsize, gridsize)), cmap = cm.bwr, vmin = -1, vmax = 1, center = 0)\n",
    "    plt.suptitle('Output Curvature Map')\n",
    "    plt.title(runname)\n",
    "    plt.savefig('{}/output-curvature-map.png'.format(runname))"
   ]
  },
  {
   "cell_type": "code",
   "execution_count": 22,
   "metadata": {},
   "outputs": [],
   "source": [
    "def generate_plots(runname, gridsize, xf, yf, zf, cv, locnamefile, refc):\n",
    "    # first visualize colored with curvature\n",
    "    fig = plt.figure(figsize = (12, 12))\n",
    "    ax = fig.add_subplot(111, projection='3d')\n",
    "    x = np.reshape(xf, (gridsize, gridsize))\n",
    "    y = np.reshape(yf, (gridsize, gridsize))\n",
    "    z = np.reshape(zf, (gridsize, gridsize))\n",
    "    cvcol = cv.copy()\n",
    "    cvcol[np.isnan(cvcol)] = 0\n",
    "    maxscale = .5\n",
    "    cvcol = cmap([rmap(p, -  maxscale, 0, maxscale, 1, 0.5) for p in cvcol])\n",
    "    cvcol = np.reshape(cvcol, (gridsize, gridsize, 4))\n",
    "    ax.plot_surface(x, y, z, facecolors = cvcol)\n",
    "    plt.savefig('{}/surface-with-curvature.png'.format(runname))\n",
    "    #\n",
    "    # now visualize with solid color and location names\n",
    "    fig = plt.figure(figsize = (12, 12))\n",
    "    ax = fig.add_subplot(111, projection='3d')\n",
    "    ls = mp.colors.LightSource(azdeg = 270, altdeg = 30)\n",
    "    ax.view_init(azim = 315, elev = 75)\n",
    "    plt.axis('off')\n",
    "    ax.plot_surface(x, y, z, rcount = gridsize, ccount = gridsize, color='skyblue', lightsource = ls) #, facecolors = cvcol, lightsource = ls)\n",
    "    labels = pd.read_csv(locnamefile)\n",
    "    x_axis_vals = list(refc.columns.values)\n",
    "    y_axis_vals = list(refc.index.values)\n",
    "    for i in labels.iterrows():\n",
    "        lbl = i[1][0]\n",
    "        xpt = i[1][1]\n",
    "        ypt = i[1][2]\n",
    "        xndx = x_axis_vals.index(i[1][1])\n",
    "        yndx = y_axis_vals.index(i[1][2])\n",
    "        zpt = z[yndx, xndx]\n",
    "        ax.text(ypt, xpt, zpt, lbl, color='red')\n",
    "    plt.savefig('{}/surface-with-labels.png'.format(runname))\n",
    "    #\n",
    "    # generate animated gif\n",
    "    def rotate(angle):\n",
    "        ax.view_init(azim = angle, elev = 75)\n",
    "        \n",
    "    rot_animation = animation.FuncAnimation(fig, \n",
    "                                        rotate, \n",
    "                                        frames=np.arange(0,360,5), \n",
    "                                        interval=100, \n",
    "                                        repeat=False)\n",
    "    plt.close()\n",
    "    fname = '{}/animation.gif'.format(runname)\n",
    "    rot_animation.save(fname, dpi=80, writer='imagemagick')"
   ]
  },
  {
   "cell_type": "code",
   "execution_count": 23,
   "metadata": {},
   "outputs": [],
   "source": [
    "rate = 0.0001\n",
    "smooth_pen = 50\n",
    "momentum = 0.9\n",
    "niter = 1000"
   ]
  },
  {
   "cell_type": "code",
   "execution_count": null,
   "metadata": {},
   "outputs": [
    {
     "name": "stdout",
     "output_type": "stream",
     "text": [
      "starting rate setting: rate: 0.0001 obj fn: 2053.772845995889 complete obj fn: 298098.48261225934\n",
      "setup: -- lowering rate to 9.09090909090909e-05\n",
      "setup: -- lowering rate to 8.264462809917355e-05\n",
      "setup: -- lowering rate to 7.513148009015777e-05\n",
      "setup: -- lowering rate to 6.830134553650706e-05\n",
      "setup: -- lowering rate to 6.20921323059155e-05\n",
      "setup: -- lowering rate to 5.644739300537773e-05\n",
      "setup: -- lowering rate to 5.131581182307066e-05\n",
      "setup: -- lowering rate to 4.665073802097332e-05\n",
      "setup: -- lowering rate to 4.240976183724847e-05\n",
      "setup: -- lowering rate to 3.8554328942953155e-05\n",
      "setup: -- lowering rate to 3.504938994813923e-05\n",
      "finished rate setting: rate: 3.504938994813923e-05 obj fn: 4582.376587219471 complete obj fn: 255949.3358837016\n",
      "step: 0 -- lowering rate to 3.1863081771035665e-05\n",
      "step: 1 -- lowering rate to 2.8966437973668783e-05\n",
      "step: 2 -- lowering rate to 2.633312543060798e-05\n",
      "step: 3 -- lowering rate to 2.3939204936916344e-05\n",
      "step: 4 -- lowering rate to 2.1762913579014857e-05\n",
      "step: 8 -- lowering rate to 1.9784466890013503e-05\n",
      "step: 17 -- lowering rate to 1.7985878990921365e-05\n",
      "step: 100, obj fn: 161.95514933231232\n"
     ]
    }
   ],
   "source": [
    "zf, cv, errvals, c_errvals = generate_surface(smooth_pen, rate, momentum, kappa, xf, yf, \n",
    "                                              t_of_v, niter = niter, verbose = True)\n",
    "runname = 'Output/sp{:d}i{:d}'.format(smooth_pen, niter)\n",
    "try:\n",
    "    os.mkdir(runname)\n",
    "except FileExistsError:\n",
    "    pass\n",
    "document_run(runname, zf, cv, errvals, c_errvals, kappa, gridsize)\n",
    "generate_plots(runname, gridsize, xf, yf, zf, cv, 'Data/map_points.csv', refc)"
   ]
  }
 ],
 "metadata": {
  "kernelspec": {
   "display_name": "Python 3",
   "language": "python",
   "name": "python3"
  },
  "language_info": {
   "codemirror_mode": {
    "name": "ipython",
    "version": 3
   },
   "file_extension": ".py",
   "mimetype": "text/x-python",
   "name": "python",
   "nbconvert_exporter": "python",
   "pygments_lexer": "ipython3",
   "version": "3.7.7"
  }
 },
 "nbformat": 4,
 "nbformat_minor": 2
}
